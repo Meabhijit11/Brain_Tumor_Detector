{
 "cells": [
  {
   "cell_type": "code",
   "execution_count": 1,
   "id": "5bbd63ab",
   "metadata": {},
   "outputs": [],
   "source": [
    "from keras.preprocessing.image import ImageDataGenerator\n",
    "import cv2\n",
    "from keras.models import Sequential\n",
    "from keras.layers import Conv2D, Input, ZeroPadding2D, BatchNormalization, Activation, MaxPooling2D, Flatten, Dense, Dropout\n",
    "from keras.models import Model, load_model\n",
    "from keras.callbacks import TensorBoard, ModelCheckpoint\n",
    "from sklearn.model_selection import train_test_split\n",
    "from sklearn.metrics import f1_score\n",
    "from sklearn.utils import shuffle\n",
    "import numpy as np"
   ]
  },
  {
   "cell_type": "code",
   "execution_count": 2,
   "id": "94b2b4cf",
   "metadata": {},
   "outputs": [],
   "source": [
    "model = Sequential([\n",
    "    Conv2D(100, (3, 3), activation='relu', input_shape=(150, 150, 3)),\n",
    "    MaxPooling2D(2, 2),\n",
    "\n",
    "    Conv2D(100, (3, 3), activation='relu'),\n",
    "    MaxPooling2D(2, 2),\n",
    "\n",
    "    Flatten(),\n",
    "    Dropout(0.5),\n",
    "    Dense(50, activation='relu'),\n",
    "    Dense(2, activation='softmax')\n",
    "])\n",
    "model.compile(optimizer='adam', loss='binary_crossentropy', metrics=['acc'])"
   ]
  },
  {
   "cell_type": "code",
   "execution_count": 3,
   "id": "2cdaac7c",
   "metadata": {},
   "outputs": [
    {
     "name": "stdout",
     "output_type": "stream",
     "text": [
      "data/train\n",
      "Found 2318 images belonging to 2 classes.\n"
     ]
    }
   ],
   "source": [
    "TRAINING_DIR = \"data/train\"\n",
    "print(TRAINING_DIR)\n",
    "train_datagen = ImageDataGenerator(rescale=1.0 / 255,\n",
    "                                   rotation_range=40,\n",
    "                                   width_shift_range=0.2,\n",
    "                                   height_shift_range=0.2,\n",
    "                                   shear_range=0.2,\n",
    "                                   zoom_range=0.2,\n",
    "                                   horizontal_flip=True,\n",
    "                                   fill_mode='nearest')\n",
    "\n",
    "train_generator = train_datagen.flow_from_directory(TRAINING_DIR,\n",
    "                                                    batch_size=10,\n",
    "                                                    target_size=(150, 150))"
   ]
  },
  {
   "cell_type": "code",
   "execution_count": 4,
   "id": "2bf5a282",
   "metadata": {},
   "outputs": [
    {
     "name": "stdout",
     "output_type": "stream",
     "text": [
      "data/test\n",
      "Found 253 images belonging to 2 classes.\n"
     ]
    }
   ],
   "source": [
    "VALIDATION_DIR = \"data/test\"\n",
    "print(VALIDATION_DIR)\n",
    "validation_datagen = ImageDataGenerator(rescale=1.0 / 255)\n",
    "\n",
    "validation_generator = validation_datagen.flow_from_directory(VALIDATION_DIR,\n",
    "                                                              batch_size=10,\n",
    "                                                              target_size=(150, 150))"
   ]
  },
  {
   "cell_type": "code",
   "execution_count": 5,
   "id": "8c3ee1f4",
   "metadata": {},
   "outputs": [],
   "source": [
    "checkpoint = ModelCheckpoint('model2-{epoch:03d}.model', monitor='val_loss', verbose=0, save_best_only=True,\n",
    "                             mode='auto')"
   ]
  },
  {
   "cell_type": "code",
   "execution_count": 6,
   "id": "f0236266",
   "metadata": {},
   "outputs": [
    {
     "name": "stderr",
     "output_type": "stream",
     "text": [
      "C:\\Users\\meabh\\anaconda3\\envs\\tf2\\lib\\site-packages\\keras\\engine\\training.py:1972: UserWarning: `Model.fit_generator` is deprecated and will be removed in a future version. Please use `Model.fit`, which supports generators.\n",
      "  warnings.warn('`Model.fit_generator` is deprecated and '\n"
     ]
    },
    {
     "name": "stdout",
     "output_type": "stream",
     "text": [
      "Epoch 1/24\n",
      "232/232 [==============================] - 106s 454ms/step - loss: 0.6486 - acc: 0.6350 - val_loss: 0.5696 - val_acc: 0.7747\n",
      "INFO:tensorflow:Assets written to: model2-001.model\\assets\n",
      "Epoch 2/24\n",
      "232/232 [==============================] - 95s 407ms/step - loss: 0.6053 - acc: 0.6825 - val_loss: 0.4800 - val_acc: 0.7945\n",
      "INFO:tensorflow:Assets written to: model2-002.model\\assets\n",
      "Epoch 3/24\n",
      "232/232 [==============================] - 90s 389ms/step - loss: 0.5919 - acc: 0.6928 - val_loss: 0.4812 - val_acc: 0.8103\n",
      "Epoch 4/24\n",
      "232/232 [==============================] - 90s 389ms/step - loss: 0.5650 - acc: 0.7105 - val_loss: 0.5811 - val_acc: 0.7352\n",
      "Epoch 5/24\n",
      "232/232 [==============================] - 90s 389ms/step - loss: 0.5548 - acc: 0.7187 - val_loss: 0.4529 - val_acc: 0.8063\n",
      "INFO:tensorflow:Assets written to: model2-005.model\\assets\n",
      "Epoch 6/24\n",
      "232/232 [==============================] - 90s 387ms/step - loss: 0.5530 - acc: 0.7213 - val_loss: 0.4472 - val_acc: 0.8261\n",
      "INFO:tensorflow:Assets written to: model2-006.model\\assets\n",
      "Epoch 7/24\n",
      "232/232 [==============================] - 92s 397ms/step - loss: 0.5511 - acc: 0.7166 - val_loss: 0.5164 - val_acc: 0.7431\n",
      "Epoch 8/24\n",
      "232/232 [==============================] - 91s 392ms/step - loss: 0.5518 - acc: 0.7235 - val_loss: 0.5379 - val_acc: 0.7391\n",
      "Epoch 9/24\n",
      "232/232 [==============================] - 91s 392ms/step - loss: 0.5238 - acc: 0.7541 - val_loss: 0.4443 - val_acc: 0.7866\n",
      "INFO:tensorflow:Assets written to: model2-009.model\\assets\n",
      "Epoch 10/24\n",
      "232/232 [==============================] - 91s 393ms/step - loss: 0.5216 - acc: 0.7468 - val_loss: 0.4874 - val_acc: 0.7787\n",
      "Epoch 11/24\n",
      "232/232 [==============================] - 92s 396ms/step - loss: 0.5273 - acc: 0.7295 - val_loss: 0.4592 - val_acc: 0.7826\n",
      "Epoch 12/24\n",
      "232/232 [==============================] - 91s 392ms/step - loss: 0.5128 - acc: 0.7494 - val_loss: 0.4314 - val_acc: 0.7866\n",
      "INFO:tensorflow:Assets written to: model2-012.model\\assets\n",
      "Epoch 13/24\n",
      "232/232 [==============================] - 90s 387ms/step - loss: 0.5264 - acc: 0.7446 - val_loss: 0.5096 - val_acc: 0.7708\n",
      "Epoch 14/24\n",
      "232/232 [==============================] - 92s 395ms/step - loss: 0.5008 - acc: 0.7722 - val_loss: 0.4768 - val_acc: 0.7747\n",
      "Epoch 15/24\n",
      "232/232 [==============================] - 93s 399ms/step - loss: 0.5034 - acc: 0.7593 - val_loss: 0.4132 - val_acc: 0.7945\n",
      "INFO:tensorflow:Assets written to: model2-015.model\\assets\n",
      "Epoch 16/24\n",
      "232/232 [==============================] - 101s 436ms/step - loss: 0.5099 - acc: 0.7532 - val_loss: 0.4209 - val_acc: 0.7984\n",
      "Epoch 17/24\n",
      "232/232 [==============================] - 101s 437ms/step - loss: 0.4944 - acc: 0.7614 - val_loss: 0.4071 - val_acc: 0.7866\n",
      "INFO:tensorflow:Assets written to: model2-017.model\\assets\n",
      "Epoch 18/24\n",
      "232/232 [==============================] - 100s 431ms/step - loss: 0.4823 - acc: 0.7791 - val_loss: 0.4522 - val_acc: 0.7628\n",
      "Epoch 19/24\n",
      "232/232 [==============================] - 91s 391ms/step - loss: 0.4676 - acc: 0.7817 - val_loss: 0.4657 - val_acc: 0.7866\n",
      "Epoch 20/24\n",
      "232/232 [==============================] - 91s 391ms/step - loss: 0.4657 - acc: 0.7761 - val_loss: 0.3728 - val_acc: 0.8024\n",
      "INFO:tensorflow:Assets written to: model2-020.model\\assets\n",
      "Epoch 21/24\n",
      "232/232 [==============================] - 90s 388ms/step - loss: 0.4703 - acc: 0.7662 - val_loss: 0.4152 - val_acc: 0.7945\n",
      "Epoch 22/24\n",
      "232/232 [==============================] - 90s 388ms/step - loss: 0.4566 - acc: 0.7826 - val_loss: 0.3713 - val_acc: 0.8221\n",
      "INFO:tensorflow:Assets written to: model2-022.model\\assets\n",
      "Epoch 23/24\n",
      "232/232 [==============================] - 91s 393ms/step - loss: 0.4525 - acc: 0.7959 - val_loss: 0.4598 - val_acc: 0.7826\n",
      "Epoch 24/24\n",
      "232/232 [==============================] - 90s 390ms/step - loss: 0.4282 - acc: 0.8067 - val_loss: 0.3673 - val_acc: 0.8300\n",
      "INFO:tensorflow:Assets written to: model2-024.model\\assets\n"
     ]
    }
   ],
   "source": [
    "history = model.fit_generator(train_generator,\n",
    "                              epochs=24,\n",
    "                              validation_data=validation_generator,\n",
    "                              callbacks=[checkpoint])"
   ]
  },
  {
   "cell_type": "code",
   "execution_count": 7,
   "id": "a011b25b",
   "metadata": {},
   "outputs": [
    {
     "name": "stdout",
     "output_type": "stream",
     "text": [
      "INFO:tensorflow:Assets written to: BrainTumor_model\\assets\n"
     ]
    }
   ],
   "source": [
    "model.save(r'BrainTumor_model') #saved the  model"
   ]
  }
 ],
 "metadata": {
  "kernelspec": {
   "display_name": "Python 3",
   "language": "python",
   "name": "python3"
  },
  "language_info": {
   "codemirror_mode": {
    "name": "ipython",
    "version": 3
   },
   "file_extension": ".py",
   "mimetype": "text/x-python",
   "name": "python",
   "nbconvert_exporter": "python",
   "pygments_lexer": "ipython3",
   "version": "3.6.9"
  }
 },
 "nbformat": 4,
 "nbformat_minor": 5
}
